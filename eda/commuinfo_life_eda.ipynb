{
 "cells": [
  {
   "cell_type": "code",
   "execution_count": 2,
   "metadata": {},
   "outputs": [],
   "source": [
    "# !pip install pandas\n",
    "# !pip install openpyxl"
   ]
  },
  {
   "cell_type": "code",
   "execution_count": 3,
   "metadata": {},
   "outputs": [],
   "source": [
    "import pandas as pd\n",
    "import glob"
   ]
  },
  {
   "cell_type": "markdown",
   "metadata": {},
   "source": [
    "## 행정동단위 29개 통신정보"
   ]
  },
  {
   "cell_type": "markdown",
   "metadata": {},
   "source": [
    "2. 데이터프레임명 : commuinfo_life_df\n",
    "    - 23년 01월 ~ 23년 09월\n",
    "    - 컬럼 143개\n",
    "        1. 행정동코드\n",
    "        2. 자치구\n",
    "        3. 행정동명\n",
    "        4. 성별\n",
    "        5. 연령대\n",
    "        6. 총인구\n",
    "        7. 1인가구수\n",
    "        - ▷ 아래부터는 해당 항목에서 5개로 구성됨(미추정 값, 평균값, 4분위수(25%), 4분위수(50%), 4분위수(75%))\n",
    "        8. 야간상주지 변경횟수\n",
    "        9. 주간상주지 변경횟수\n",
    "        10. 출근 소요시간\n",
    "        11. 근무시간\n",
    "        12. 소액결재 사용횟수\n",
    "        13. 소액결재 사용금액\n",
    "        14. (1개)최근 3개월 내 요금 연체 비율\n",
    "        15. (1개)카카오톡 비사용 인구수\n",
    "        16. (미추정 값이 없음)SNS 사용횟수\n",
    "        17. (미추정 값이 없음)평균 통화량\n",
    "        18. (미추정 값이 없음)평균 문자량\n",
    "        19. (미추정 값이 없음)평균 통화대상자 수\n",
    "        20. (미추정 값이 없음)평균 문자대상자 수\n",
    "        21. (미추정 값이 없음)데이터 사용량\n",
    "        22. 평일 총 이동 횟수\n",
    "        23. 휴일 총 이동 횟수\n",
    "        24. 집 추정 위치 평일 총 체류시간\n",
    "        25. 집 추정 위치 휴일 총 체류시간\n",
    "        26. 평일 총 이동 거리 합계\n",
    "        27. 휴일 총 이동 거리 합계\n",
    "        28. 지하철이동일수 합계\n",
    "        29. 게임 서비스 사용일수\n",
    "        30. 금융 서비스 사용일수\n",
    "        31. 쇼핑 서비스 사용일수\n",
    "        32. 동영상/방송 서비스 사용일수\n",
    "        33. 유튜브 사용일수\n",
    "        34. 넷플릭스 사용일수\n",
    "        35. 배달 서비스 사용일수\n",
    "        36. 배달_브랜드 서비스 사용일수\n",
    "        37. 배달_식재료 서비스 사용일수\n",
    "    - 레코드(Row) 91,584개(매달 10,176개)"
   ]
  },
  {
   "cell_type": "markdown",
   "metadata": {},
   "source": [
    "### 데이터 읽어오기"
   ]
  },
  {
   "cell_type": "code",
   "execution_count": 4,
   "metadata": {},
   "outputs": [],
   "source": [
    "file_list = glob.glob('../dedev_2nd_project/23_commuinfo_lifedata/*.xlsx')\n",
    "all_commuinfo_life_df = []\n",
    "\n",
    "for m, file_path in enumerate(file_list):\n",
    "    df = pd.read_excel(file_path)\n",
    "    if m + 1 >= 10:\n",
    "        df['month'] = str(m+1)\n",
    "    else:\n",
    "        df['month'] = '0' + str(m+1)\n",
    "    all_commuinfo_life_df.append(df)\n",
    "\n",
    "commuinfo_life_df = pd.concat(all_commuinfo_life_df, ignore_index=True)"
   ]
  },
  {
   "cell_type": "code",
   "execution_count": 5,
   "metadata": {},
   "outputs": [
    {
     "name": "stdout",
     "output_type": "stream",
     "text": [
      "<class 'pandas.core.frame.DataFrame'>\n",
      "RangeIndex: 91584 entries, 0 to 91583\n",
      "Columns: 144 entries, 행정동코드 to month\n",
      "dtypes: float64(124), int64(17), object(3)\n",
      "memory usage: 100.6+ MB\n"
     ]
    }
   ],
   "source": [
    "commuinfo_life_df.info()"
   ]
  },
  {
   "cell_type": "code",
   "execution_count": 6,
   "metadata": {},
   "outputs": [
    {
     "data": {
      "text/html": [
       "<div>\n",
       "<style scoped>\n",
       "    .dataframe tbody tr th:only-of-type {\n",
       "        vertical-align: middle;\n",
       "    }\n",
       "\n",
       "    .dataframe tbody tr th {\n",
       "        vertical-align: top;\n",
       "    }\n",
       "\n",
       "    .dataframe thead th {\n",
       "        text-align: right;\n",
       "    }\n",
       "</style>\n",
       "<table border=\"1\" class=\"dataframe\">\n",
       "  <thead>\n",
       "    <tr style=\"text-align: right;\">\n",
       "      <th></th>\n",
       "      <th>행정동코드</th>\n",
       "      <th>자치구</th>\n",
       "      <th>행정동</th>\n",
       "      <th>성별</th>\n",
       "      <th>연령대</th>\n",
       "      <th>총인구수</th>\n",
       "      <th>1인가구수</th>\n",
       "      <th>야간상주지 변경 미추정 인구 수</th>\n",
       "      <th>야간상주지 변경횟수 평균</th>\n",
       "      <th>야간상주지 변경횟수: 4분위수, 25%</th>\n",
       "      <th>...</th>\n",
       "      <th>배달_브랜드 서비스 사용일수</th>\n",
       "      <th>배달_브랜드 서비스 사용일수: 4분위수, 25%</th>\n",
       "      <th>배달_브랜드 서비스 사용일수: 4분위수, 50%</th>\n",
       "      <th>배달_브랜드 서비스 사용일수: 4분위수, 75%</th>\n",
       "      <th>배달_식재료 서비스 사용 미추정 인구수</th>\n",
       "      <th>배달_식재료 서비스 사용일수</th>\n",
       "      <th>배달_식재료 서비스 사용일수: 4분위수, 25%</th>\n",
       "      <th>배달_식재료 서비스 사용일수: 4분위수, 50%</th>\n",
       "      <th>배달_식재료 서비스 사용일수: 4분위수, 75%</th>\n",
       "      <th>month</th>\n",
       "    </tr>\n",
       "  </thead>\n",
       "  <tbody>\n",
       "    <tr>\n",
       "      <th>0</th>\n",
       "      <td>1101053</td>\n",
       "      <td>종로구</td>\n",
       "      <td>사직동</td>\n",
       "      <td>1</td>\n",
       "      <td>20</td>\n",
       "      <td>220.00</td>\n",
       "      <td>68.91</td>\n",
       "      <td>0</td>\n",
       "      <td>2.57</td>\n",
       "      <td>2</td>\n",
       "      <td>...</td>\n",
       "      <td>2.71</td>\n",
       "      <td>1.67</td>\n",
       "      <td>1.67</td>\n",
       "      <td>3.33</td>\n",
       "      <td>217.56</td>\n",
       "      <td>1.67</td>\n",
       "      <td>1.67</td>\n",
       "      <td>1.67</td>\n",
       "      <td>1.67</td>\n",
       "      <td>01</td>\n",
       "    </tr>\n",
       "    <tr>\n",
       "      <th>1</th>\n",
       "      <td>1101053</td>\n",
       "      <td>종로구</td>\n",
       "      <td>사직동</td>\n",
       "      <td>1</td>\n",
       "      <td>25</td>\n",
       "      <td>321.00</td>\n",
       "      <td>111.76</td>\n",
       "      <td>0</td>\n",
       "      <td>2.30</td>\n",
       "      <td>1</td>\n",
       "      <td>...</td>\n",
       "      <td>2.82</td>\n",
       "      <td>1.67</td>\n",
       "      <td>1.67</td>\n",
       "      <td>3.33</td>\n",
       "      <td>316.69</td>\n",
       "      <td>1.67</td>\n",
       "      <td>1.67</td>\n",
       "      <td>1.67</td>\n",
       "      <td>1.67</td>\n",
       "      <td>01</td>\n",
       "    </tr>\n",
       "    <tr>\n",
       "      <th>2</th>\n",
       "      <td>1101053</td>\n",
       "      <td>종로구</td>\n",
       "      <td>사직동</td>\n",
       "      <td>1</td>\n",
       "      <td>30</td>\n",
       "      <td>350.23</td>\n",
       "      <td>112.44</td>\n",
       "      <td>0</td>\n",
       "      <td>2.02</td>\n",
       "      <td>1</td>\n",
       "      <td>...</td>\n",
       "      <td>2.85</td>\n",
       "      <td>1.67</td>\n",
       "      <td>1.67</td>\n",
       "      <td>5.00</td>\n",
       "      <td>345.68</td>\n",
       "      <td>1.67</td>\n",
       "      <td>1.67</td>\n",
       "      <td>1.67</td>\n",
       "      <td>1.67</td>\n",
       "      <td>01</td>\n",
       "    </tr>\n",
       "    <tr>\n",
       "      <th>3</th>\n",
       "      <td>1101053</td>\n",
       "      <td>종로구</td>\n",
       "      <td>사직동</td>\n",
       "      <td>1</td>\n",
       "      <td>35</td>\n",
       "      <td>353.00</td>\n",
       "      <td>111.49</td>\n",
       "      <td>0</td>\n",
       "      <td>1.87</td>\n",
       "      <td>1</td>\n",
       "      <td>...</td>\n",
       "      <td>3.46</td>\n",
       "      <td>1.67</td>\n",
       "      <td>3.33</td>\n",
       "      <td>5.00</td>\n",
       "      <td>348.05</td>\n",
       "      <td>1.67</td>\n",
       "      <td>1.67</td>\n",
       "      <td>1.67</td>\n",
       "      <td>1.67</td>\n",
       "      <td>01</td>\n",
       "    </tr>\n",
       "    <tr>\n",
       "      <th>4</th>\n",
       "      <td>1101053</td>\n",
       "      <td>종로구</td>\n",
       "      <td>사직동</td>\n",
       "      <td>1</td>\n",
       "      <td>40</td>\n",
       "      <td>419.00</td>\n",
       "      <td>77.91</td>\n",
       "      <td>0</td>\n",
       "      <td>1.66</td>\n",
       "      <td>1</td>\n",
       "      <td>...</td>\n",
       "      <td>2.50</td>\n",
       "      <td>1.67</td>\n",
       "      <td>1.67</td>\n",
       "      <td>3.33</td>\n",
       "      <td>408.05</td>\n",
       "      <td>1.67</td>\n",
       "      <td>1.67</td>\n",
       "      <td>1.67</td>\n",
       "      <td>1.67</td>\n",
       "      <td>01</td>\n",
       "    </tr>\n",
       "  </tbody>\n",
       "</table>\n",
       "<p>5 rows × 144 columns</p>\n",
       "</div>"
      ],
      "text/plain": [
       "     행정동코드  자치구  행정동  성별  연령대    총인구수   1인가구수  야간상주지 변경 미추정 인구 수  \\\n",
       "0  1101053  종로구  사직동   1   20  220.00   68.91                  0   \n",
       "1  1101053  종로구  사직동   1   25  321.00  111.76                  0   \n",
       "2  1101053  종로구  사직동   1   30  350.23  112.44                  0   \n",
       "3  1101053  종로구  사직동   1   35  353.00  111.49                  0   \n",
       "4  1101053  종로구  사직동   1   40  419.00   77.91                  0   \n",
       "\n",
       "   야간상주지 변경횟수 평균  야간상주지 변경횟수: 4분위수, 25%  ...  배달_브랜드 서비스 사용일수  \\\n",
       "0           2.57                      2  ...             2.71   \n",
       "1           2.30                      1  ...             2.82   \n",
       "2           2.02                      1  ...             2.85   \n",
       "3           1.87                      1  ...             3.46   \n",
       "4           1.66                      1  ...             2.50   \n",
       "\n",
       "   배달_브랜드 서비스 사용일수: 4분위수, 25%  배달_브랜드 서비스 사용일수: 4분위수, 50%  \\\n",
       "0                        1.67                        1.67   \n",
       "1                        1.67                        1.67   \n",
       "2                        1.67                        1.67   \n",
       "3                        1.67                        3.33   \n",
       "4                        1.67                        1.67   \n",
       "\n",
       "   배달_브랜드 서비스 사용일수: 4분위수, 75%  배달_식재료 서비스 사용 미추정 인구수  배달_식재료 서비스 사용일수  \\\n",
       "0                        3.33                 217.56             1.67   \n",
       "1                        3.33                 316.69             1.67   \n",
       "2                        5.00                 345.68             1.67   \n",
       "3                        5.00                 348.05             1.67   \n",
       "4                        3.33                 408.05             1.67   \n",
       "\n",
       "   배달_식재료 서비스 사용일수: 4분위수, 25%  배달_식재료 서비스 사용일수: 4분위수, 50%  \\\n",
       "0                        1.67                        1.67   \n",
       "1                        1.67                        1.67   \n",
       "2                        1.67                        1.67   \n",
       "3                        1.67                        1.67   \n",
       "4                        1.67                        1.67   \n",
       "\n",
       "   배달_식재료 서비스 사용일수: 4분위수, 75%  month  \n",
       "0                        1.67     01  \n",
       "1                        1.67     01  \n",
       "2                        1.67     01  \n",
       "3                        1.67     01  \n",
       "4                        1.67     01  \n",
       "\n",
       "[5 rows x 144 columns]"
      ]
     },
     "execution_count": 6,
     "metadata": {},
     "output_type": "execute_result"
    }
   ],
   "source": [
    "commuinfo_life_df.head()"
   ]
  },
  {
   "cell_type": "markdown",
   "metadata": {},
   "source": [
    "### 컬럼 확인"
   ]
  },
  {
   "cell_type": "code",
   "execution_count": 7,
   "metadata": {},
   "outputs": [
    {
     "name": "stdout",
     "output_type": "stream",
     "text": [
      "0 행정동코드\n",
      "1 자치구\n",
      "2 행정동\n",
      "3 성별\n",
      "4 연령대\n",
      "5 총인구수\n",
      "6 1인가구수\n",
      "7 야간상주지 변경 미추정 인구 수\n",
      "8 야간상주지 변경횟수 평균\n",
      "9 야간상주지 변경횟수: 4분위수, 25%\n",
      "10 야간상주지 변경횟수: 4분위수, 50%\n",
      "11 야간상주지 변경횟수: 4분위수, 75%\n",
      "12 주간상주지 변경 미추정 인구수\n",
      "13 주간상주지 변경횟수 평균\n",
      "14 주간상주지 변경횟수: 4분위수, 25%\n",
      "15 주간상주지 변경횟수: 4분위수, 50%\n",
      "16 주간상주지 변경횟수: 4분위수, 75%\n",
      "17 출근 소요시간 미추정 인구수\n",
      "18 평균 출근 소요시간 평균\n",
      "19 평균 출근 소요시간: 4분위수, 25%\n",
      "20 평균 출근 소요시간: 4분위수, 50%\n",
      "21 평균 출근 소요시간: 4분위수, 75%\n",
      "22 근무시간 미추정 인구수\n",
      "23 평균 근무시간 평균\n",
      "24 평균 근무시간: 4분위수, 25%\n",
      "25 평균 근무시간: 4분위수, 50%\n",
      "26 평균 근무시간: 4분위수, 75%\n",
      "27 소액결재 비사용 인구수\n",
      "28 소액결재 사용횟수 평균\n",
      "29 소액결재 사용횟수: 4분위수, 25%\n"
     ]
    }
   ],
   "source": [
    "for i, col in enumerate(commuinfo_life_df.columns):\n",
    "    if i < 30:\n",
    "        print(i, col)"
   ]
  },
  {
   "cell_type": "code",
   "execution_count": 8,
   "metadata": {},
   "outputs": [
    {
     "name": "stdout",
     "output_type": "stream",
     "text": [
      "30 소액결재 사용횟수: 4분위수, 50%\n",
      "31 소액결재 사용횟수: 4분위수, 75%\n",
      "32 소액결재 사용 금액 없는 인구수\n",
      "33 소액결재 사용금액 평균\n",
      "34 소액결재 사용금액: 4분위수, 25%\n",
      "35 소액결재 사용금액: 4분위수, 50%\n",
      "36 소액결재 사용금액: 4분위수, 75%\n",
      "37 최근 3개월 내 요금 연체 비율\n",
      "38 카카오톡 비사용 인구수\n",
      "39 SNS 사용횟수\n",
      "40 SNS 사용횟수: 4분위수, 25%\n",
      "41 SNS 사용횟수: 4분위수, 50%\n",
      "42 SNS 사용횟수: 4분위수, 75%\n",
      "43 평균 통화량\n",
      "44 평균 통화량: 4분위수, 25%\n",
      "45 평균 통화량: 4분위수, 50%\n",
      "46 평균 통화량: 4분위수, 75%\n",
      "47 평균 문자량\n",
      "48 평균 문자량: 4분위수, 25%\n",
      "49 평균 문자량: 4분위수, 50%\n",
      "50 평균 문자량: 4분위수, 75%\n",
      "51 평균 통화대상자 수\n",
      "52 평균 통화대상자 수: 4분위수, 25%\n",
      "53 평균 통화대상자 수: 4분위수, 50%\n",
      "54 평균 통화대상자 수: 4분위수, 75%\n",
      "55 평균 문자대상자 수\n",
      "56 평균 문자대상자 수: 4분위수, 25%\n",
      "57 평균 문자대상자 수: 4분위수, 50%\n",
      "58 평균 문자대상자 수: 4분위수, 75%\n",
      "59 데이터 사용량\n"
     ]
    }
   ],
   "source": [
    "for i, col in enumerate(commuinfo_life_df.columns):\n",
    "    if 30 <= i < 60:\n",
    "        print(i, col)"
   ]
  },
  {
   "cell_type": "code",
   "execution_count": 9,
   "metadata": {},
   "outputs": [
    {
     "name": "stdout",
     "output_type": "stream",
     "text": [
      "60 데이터 사용량: 4분위수, 25%\n",
      "61 데이터 사용량: 4분위수, 50%\n",
      "62 데이터 사용량: 4분위수, 75%\n",
      "63 평일 총 이동 횟수 미추정 인구수\n",
      "64 평일 총 이동 횟수\n",
      "65 평일 총 이동 횟수: 4분위수, 25%\n",
      "66 평일 총 이동 횟수: 4분위수, 50%\n",
      "67 평일 총 이동 횟수: 4분위수, 75%\n",
      "68 휴일 이동 미추정 인구수\n",
      "69 휴일 총 이동 횟수 평균\n",
      "70 휴일 총 이동 횟수: 4분위수, 25%\n",
      "71 휴일 총 이동 횟수: 4분위수, 50%\n",
      "72 휴일 총 이동 횟수: 4분위수, 75%\n",
      "73 집 추정 위치 평일 총 체류시간 미추정 인구수\n",
      "74 집 추정 위치 평일 총 체류시간\n",
      "75 집 추정 위치 평일 총 체류시간: 4분위수, 25%\n",
      "76 집 추정 위치 평일 총 체류시간: 4분위수, 50%\n",
      "77 집 추정 위치 평일 총 체류시간: 4분위수, 75%\n",
      "78 집 추정 위치 휴일 총 체류시간 미추정 인구수\n",
      "79 집 추정 위치 휴일 총 체류시간\n",
      "80 집 추정 위치 휴일 총 체류시간: 4분위수, 25%\n",
      "81 집 추정 위치 휴일 총 체류시간: 4분위수, 50%\n",
      "82 집 추정 위치 휴일 총 체류시간: 4분위수, 75%\n",
      "83 평일 총 이동 거리 미추정 인구수\n",
      "84 평일 총 이동 거리 합계\n",
      "85 평일 총 이동 거리 합계: 4분위수, 25%\n",
      "86 평일 총 이동 거리 합계: 4분위수, 50%\n",
      "87 평일 총 이동 거리 합계: 4분위수, 75%\n",
      "88 휴일 총 이동 거리 미추정 인구수\n",
      "89 휴일 총 이동 거리 합계\n"
     ]
    }
   ],
   "source": [
    "for i, col in enumerate(commuinfo_life_df.columns):\n",
    "    if 60 <= i < 90:\n",
    "        print(i, col)"
   ]
  },
  {
   "cell_type": "code",
   "execution_count": 10,
   "metadata": {},
   "outputs": [
    {
     "name": "stdout",
     "output_type": "stream",
     "text": [
      "90 휴일 총 이동 거리 합계: 4분위수, 25%\n",
      "91 휴일 총 이동 거리 합계: 4분위수, 50%\n",
      "92 휴일 총 이동 거리 합계: 4분위수, 75%\n",
      "93 지하철 이용 미추정 인구수\n",
      "94 지하철이동일수 합계\n",
      "95 지하철이동일수 합계: 4분위수, 25%\n",
      "96 지하철이동일수 합계: 4분위수, 50%\n",
      "97 지하철이동일수 합계: 4분위수, 75%\n",
      "98 게임 서비스 사용 미추정 인구수\n",
      "99 게임 서비스 사용일수\n",
      "100 게임 서비스 사용일수: 4분위수, 25%\n",
      "101 게임 서비스 사용일수: 4분위수, 50%\n",
      "102 게임 서비스 사용일수: 4분위수, 75%\n",
      "103 금융 서비스 사용 미추정 인구수\n",
      "104 금융 서비스 사용일수\n",
      "105 금융 서비스 사용일수: 4분위수, 25%\n",
      "106 금융 서비스 사용일수: 4분위수, 50%\n",
      "107 금융 서비스 사용일수: 4분위수, 75%\n",
      "108 쇼핑 서비스 사용 미추정 인구수\n",
      "109 쇼핑 서비스 사용일수\n",
      "110 쇼핑 서비스 사용일수: 4분위수, 25%\n",
      "111 쇼핑 서비스 사용일수: 4분위수, 50%\n",
      "112 쇼핑 서비스 사용일수: 4분위수, 75%\n",
      "113 동영상/방송 서비스 사용 미추정 인구수\n",
      "114 동영상/방송 서비스 사용일수\n",
      "115 동영상/방송 서비스 사용일수: 4분위수, 25%\n",
      "116 동영상/방송 서비스 사용일수: 4분위수, 50%\n",
      "117 동영상/방송 서비스 사용일수: 4분위수, 75%\n",
      "118 유튜브 사용 미추정 인구수\n",
      "119 유튜브 사용일수\n"
     ]
    }
   ],
   "source": [
    "for i, col in enumerate(commuinfo_life_df.columns):\n",
    "    if 90 <= i < 120:\n",
    "        print(i, col)"
   ]
  },
  {
   "cell_type": "code",
   "execution_count": 11,
   "metadata": {},
   "outputs": [
    {
     "name": "stdout",
     "output_type": "stream",
     "text": [
      "120 유튜브 사용일수: 4분위수, 25%\n",
      "121 유튜브 사용일수: 4분위수, 50%\n",
      "122 유튜브 사용일수: 4분위수, 75%\n",
      "123 넷플릭스 사용 미추정 인구수\n",
      "124 넷플릭스 사용일수\n",
      "125 넷플릭스 사용일수: 4분위수, 25%\n",
      "126 넷플릭스 사용일수: 4분위수, 50%\n",
      "127 넷플릭스 사용일수: 4분위수, 75%\n",
      "128 배달 서비스 사용 미추정 인구수\n",
      "129 배달 서비스 사용일수\n",
      "130 배달 서비스 사용일수: 4분위수, 25%\n",
      "131 배달 서비스 사용일수: 4분위수, 50%\n",
      "132 배달 서비스 사용일수: 4분위수, 75%\n",
      "133 배달_브랜드 서비스 사용 미추정 인구수\n",
      "134 배달_브랜드 서비스 사용일수\n",
      "135 배달_브랜드 서비스 사용일수: 4분위수, 25%\n",
      "136 배달_브랜드 서비스 사용일수: 4분위수, 50%\n",
      "137 배달_브랜드 서비스 사용일수: 4분위수, 75%\n",
      "138 배달_식재료 서비스 사용 미추정 인구수\n",
      "139 배달_식재료 서비스 사용일수\n",
      "140 배달_식재료 서비스 사용일수: 4분위수, 25%\n",
      "141 배달_식재료 서비스 사용일수: 4분위수, 50%\n",
      "142 배달_식재료 서비스 사용일수: 4분위수, 75%\n",
      "143 month\n"
     ]
    }
   ],
   "source": [
    "for i, col in enumerate(commuinfo_life_df.columns):\n",
    "    if 120 <= i < 150:\n",
    "        print(i, col)"
   ]
  },
  {
   "cell_type": "markdown",
   "metadata": {},
   "source": [
    "### 1.야간상주지 변경횟수 평균"
   ]
  },
  {
   "cell_type": "code",
   "execution_count": 12,
   "metadata": {},
   "outputs": [
    {
     "data": {
      "text/plain": [
       "count    91584.000000\n",
       "mean         1.695043\n",
       "std          0.291539\n",
       "min          1.000000\n",
       "25%          1.490000\n",
       "50%          1.630000\n",
       "75%          1.830000\n",
       "max          3.830000\n",
       "Name: 야간상주지 변경횟수 평균, dtype: float64"
      ]
     },
     "execution_count": 12,
     "metadata": {},
     "output_type": "execute_result"
    }
   ],
   "source": [
    "commuinfo_life_df['야간상주지 변경횟수 평균'].describe()"
   ]
  },
  {
   "cell_type": "markdown",
   "metadata": {},
   "source": [
    "### 2.주간상주지 변경횟수 평균"
   ]
  },
  {
   "cell_type": "code",
   "execution_count": 13,
   "metadata": {},
   "outputs": [
    {
     "data": {
      "text/plain": [
       "count    91584.000000\n",
       "mean         2.389982\n",
       "std          0.700878\n",
       "min          1.000000\n",
       "25%          2.150000\n",
       "50%          2.430000\n",
       "75%          2.740000\n",
       "max          5.470000\n",
       "Name: 주간상주지 변경횟수 평균, dtype: float64"
      ]
     },
     "execution_count": 13,
     "metadata": {},
     "output_type": "execute_result"
    }
   ],
   "source": [
    "commuinfo_life_df['주간상주지 변경횟수 평균'].describe()"
   ]
  },
  {
   "cell_type": "markdown",
   "metadata": {},
   "source": [
    "### 3.평균 출근 소요시간 평균"
   ]
  },
  {
   "cell_type": "code",
   "execution_count": 14,
   "metadata": {},
   "outputs": [
    {
     "data": {
      "text/plain": [
       "count    91584.000000\n",
       "mean        54.285158\n",
       "std         25.362334\n",
       "min          0.000000\n",
       "25%         53.560000\n",
       "50%         61.670000\n",
       "75%         68.900000\n",
       "max        190.000000\n",
       "Name: 평균 출근 소요시간 평균, dtype: float64"
      ]
     },
     "execution_count": 14,
     "metadata": {},
     "output_type": "execute_result"
    }
   ],
   "source": [
    "commuinfo_life_df['평균 출근 소요시간 평균'].describe()"
   ]
  },
  {
   "cell_type": "markdown",
   "metadata": {},
   "source": [
    "### 4.평균 근무시간 평균"
   ]
  },
  {
   "cell_type": "code",
   "execution_count": 15,
   "metadata": {},
   "outputs": [
    {
     "data": {
      "text/plain": [
       "count    91584.000000\n",
       "mean       440.778202\n",
       "std        193.850896\n",
       "min          0.000000\n",
       "25%        484.490000\n",
       "50%        519.460000\n",
       "75%        542.720000\n",
       "max        740.000000\n",
       "Name: 평균 근무시간 평균, dtype: float64"
      ]
     },
     "execution_count": 15,
     "metadata": {},
     "output_type": "execute_result"
    }
   ],
   "source": [
    "commuinfo_life_df['평균 근무시간 평균'].describe()"
   ]
  },
  {
   "cell_type": "markdown",
   "metadata": {},
   "source": [
    "### 5.소액결재 사용횟수 평균"
   ]
  },
  {
   "cell_type": "code",
   "execution_count": 16,
   "metadata": {},
   "outputs": [
    {
     "data": {
      "text/plain": [
       "count    91584.000000\n",
       "mean         2.223286\n",
       "std          0.753273\n",
       "min          0.000000\n",
       "25%          2.080000\n",
       "50%          2.400000\n",
       "75%          2.590000\n",
       "max          3.330000\n",
       "Name: 소액결재 사용횟수 평균, dtype: float64"
      ]
     },
     "execution_count": 16,
     "metadata": {},
     "output_type": "execute_result"
    }
   ],
   "source": [
    "commuinfo_life_df['소액결재 사용횟수 평균'].describe()"
   ]
  },
  {
   "cell_type": "markdown",
   "metadata": {},
   "source": [
    "### 6.소액결재 사용금액 평균"
   ]
  },
  {
   "cell_type": "code",
   "execution_count": 17,
   "metadata": {},
   "outputs": [
    {
     "data": {
      "text/plain": [
       "count    91584.000000\n",
       "mean      6163.250203\n",
       "std       1501.018866\n",
       "min          0.000000\n",
       "25%       5385.190000\n",
       "50%       6207.865000\n",
       "75%       6992.630000\n",
       "max      13333.330000\n",
       "Name: 소액결재 사용금액 평균, dtype: float64"
      ]
     },
     "execution_count": 17,
     "metadata": {},
     "output_type": "execute_result"
    }
   ],
   "source": [
    "commuinfo_life_df['소액결재 사용금액 평균'].describe()"
   ]
  },
  {
   "cell_type": "markdown",
   "metadata": {},
   "source": [
    "### 7.최근 3개월 내 요금 연체 비율"
   ]
  },
  {
   "cell_type": "code",
   "execution_count": 18,
   "metadata": {},
   "outputs": [
    {
     "data": {
      "text/plain": [
       "count    91584.000000\n",
       "mean         9.865319\n",
       "std          5.604758\n",
       "min          0.000000\n",
       "25%          5.490000\n",
       "50%          8.540000\n",
       "75%         13.660000\n",
       "max         50.000000\n",
       "Name: 최근 3개월 내 요금 연체 비율, dtype: float64"
      ]
     },
     "execution_count": 18,
     "metadata": {},
     "output_type": "execute_result"
    }
   ],
   "source": [
    "commuinfo_life_df['최근 3개월 내 요금 연체 비율'].describe()"
   ]
  },
  {
   "cell_type": "markdown",
   "metadata": {},
   "source": [
    "### 8.카카오톡 비사용 인구수"
   ]
  },
  {
   "cell_type": "code",
   "execution_count": 19,
   "metadata": {},
   "outputs": [
    {
     "data": {
      "text/plain": [
       "count    91584.000000\n",
       "mean        38.075255\n",
       "std         49.412376\n",
       "min          0.000000\n",
       "25%         13.340000\n",
       "50%         25.840000\n",
       "75%         43.700000\n",
       "max        655.350000\n",
       "Name: 카카오톡 비사용 인구수, dtype: float64"
      ]
     },
     "execution_count": 19,
     "metadata": {},
     "output_type": "execute_result"
    }
   ],
   "source": [
    "commuinfo_life_df['카카오톡 비사용 인구수'].describe()"
   ]
  },
  {
   "cell_type": "markdown",
   "metadata": {},
   "source": [
    "### 9.SNS 사용횟수"
   ]
  },
  {
   "cell_type": "code",
   "execution_count": 20,
   "metadata": {},
   "outputs": [
    {
     "data": {
      "text/plain": [
       "count    91584.000000\n",
       "mean        -0.003665\n",
       "std          0.127666\n",
       "min         -0.370000\n",
       "25%         -0.090000\n",
       "50%          0.000000\n",
       "75%          0.090000\n",
       "max          0.460000\n",
       "Name: SNS 사용횟수, dtype: float64"
      ]
     },
     "execution_count": 20,
     "metadata": {},
     "output_type": "execute_result"
    }
   ],
   "source": [
    "commuinfo_life_df['SNS 사용횟수'].describe()"
   ]
  },
  {
   "cell_type": "markdown",
   "metadata": {},
   "source": [
    "### 10.평균 통화량"
   ]
  },
  {
   "cell_type": "code",
   "execution_count": 21,
   "metadata": {},
   "outputs": [
    {
     "data": {
      "text/plain": [
       "count    91584.000000\n",
       "mean        69.717471\n",
       "std         16.696039\n",
       "min         13.330000\n",
       "25%         61.740000\n",
       "50%         70.810000\n",
       "75%         77.520000\n",
       "max        192.860000\n",
       "Name: 평균 통화량, dtype: float64"
      ]
     },
     "execution_count": 21,
     "metadata": {},
     "output_type": "execute_result"
    }
   ],
   "source": [
    "commuinfo_life_df['평균 통화량'].describe()"
   ]
  },
  {
   "cell_type": "markdown",
   "metadata": {},
   "source": [
    "### 11.평균 문자량"
   ]
  },
  {
   "cell_type": "code",
   "execution_count": 22,
   "metadata": {},
   "outputs": [
    {
     "data": {
      "text/plain": [
       "count    91584.000000\n",
       "mean        12.372944\n",
       "std          2.946170\n",
       "min          0.000000\n",
       "25%         10.420000\n",
       "50%         12.200000\n",
       "75%         14.100000\n",
       "max         56.670000\n",
       "Name: 평균 문자량, dtype: float64"
      ]
     },
     "execution_count": 22,
     "metadata": {},
     "output_type": "execute_result"
    }
   ],
   "source": [
    "commuinfo_life_df['평균 문자량'].describe()"
   ]
  },
  {
   "cell_type": "markdown",
   "metadata": {},
   "source": [
    "### 12.평균 통화대상자 수"
   ]
  },
  {
   "cell_type": "code",
   "execution_count": 23,
   "metadata": {},
   "outputs": [
    {
     "data": {
      "text/plain": [
       "count    91584.000000\n",
       "mean        13.431664\n",
       "std          4.039957\n",
       "min          4.540000\n",
       "25%         10.290000\n",
       "50%         13.360000\n",
       "75%         16.550000\n",
       "max         32.380000\n",
       "Name: 평균 통화대상자 수, dtype: float64"
      ]
     },
     "execution_count": 23,
     "metadata": {},
     "output_type": "execute_result"
    }
   ],
   "source": [
    "commuinfo_life_df['평균 통화대상자 수'].describe()"
   ]
  },
  {
   "cell_type": "markdown",
   "metadata": {},
   "source": [
    "### 13.평균 문자대상자 수"
   ]
  },
  {
   "cell_type": "code",
   "execution_count": 25,
   "metadata": {},
   "outputs": [
    {
     "data": {
      "text/plain": [
       "count    91584.000000\n",
       "mean         5.025965\n",
       "std          1.170100\n",
       "min          2.110000\n",
       "25%          4.140000\n",
       "50%          5.200000\n",
       "75%          5.930000\n",
       "max          9.290000\n",
       "Name: 평균 문자대상자 수, dtype: float64"
      ]
     },
     "execution_count": 25,
     "metadata": {},
     "output_type": "execute_result"
    }
   ],
   "source": [
    "commuinfo_life_df['평균 문자대상자 수'].describe()"
   ]
  },
  {
   "cell_type": "markdown",
   "metadata": {},
   "source": [
    "### 14.데이터 사용량"
   ]
  },
  {
   "cell_type": "code",
   "execution_count": 26,
   "metadata": {},
   "outputs": [
    {
     "data": {
      "text/plain": [
       "count    91584.000000\n",
       "mean         5.380405\n",
       "std          4.401508\n",
       "min          0.100000\n",
       "25%          1.590000\n",
       "50%          4.190000\n",
       "75%          8.400000\n",
       "max         30.870000\n",
       "Name: 데이터 사용량, dtype: float64"
      ]
     },
     "execution_count": 26,
     "metadata": {},
     "output_type": "execute_result"
    }
   ],
   "source": [
    "commuinfo_life_df['데이터 사용량'].describe()"
   ]
  },
  {
   "cell_type": "markdown",
   "metadata": {},
   "source": [
    "### 15.평일 총 이동 횟수"
   ]
  },
  {
   "cell_type": "code",
   "execution_count": 27,
   "metadata": {},
   "outputs": [
    {
     "data": {
      "text/plain": [
       "count    91584.000000\n",
       "mean        17.936053\n",
       "std          4.794199\n",
       "min          4.520000\n",
       "25%         14.640000\n",
       "50%         18.400000\n",
       "75%         21.370000\n",
       "max         37.500000\n",
       "Name: 평일 총 이동 횟수, dtype: float64"
      ]
     },
     "execution_count": 27,
     "metadata": {},
     "output_type": "execute_result"
    }
   ],
   "source": [
    "commuinfo_life_df['평일 총 이동 횟수'].describe()"
   ]
  },
  {
   "cell_type": "markdown",
   "metadata": {},
   "source": [
    "### 16.휴일 총 이동 횟수 평균"
   ]
  },
  {
   "cell_type": "code",
   "execution_count": 28,
   "metadata": {},
   "outputs": [
    {
     "data": {
      "text/plain": [
       "count    91584.000000\n",
       "mean         6.818641\n",
       "std          1.563315\n",
       "min          2.470000\n",
       "25%          5.750000\n",
       "50%          6.910000\n",
       "75%          7.880000\n",
       "max         16.670000\n",
       "Name: 휴일 총 이동 횟수 평균, dtype: float64"
      ]
     },
     "execution_count": 28,
     "metadata": {},
     "output_type": "execute_result"
    }
   ],
   "source": [
    "commuinfo_life_df['휴일 총 이동 횟수 평균'].describe()"
   ]
  },
  {
   "cell_type": "markdown",
   "metadata": {},
   "source": [
    "### 17.집 추정 위치 평일 총 체류시간"
   ]
  },
  {
   "cell_type": "code",
   "execution_count": 29,
   "metadata": {},
   "outputs": [
    {
     "data": {
      "text/plain": [
       "count    9.158400e+04\n",
       "mean     6.439874e+05\n",
       "std      1.331183e+05\n",
       "min      2.213917e+05\n",
       "25%      5.590635e+05\n",
       "50%      6.380193e+05\n",
       "75%      7.264764e+05\n",
       "max      1.097643e+06\n",
       "Name: 집 추정 위치 평일 총 체류시간, dtype: float64"
      ]
     },
     "execution_count": 29,
     "metadata": {},
     "output_type": "execute_result"
    }
   ],
   "source": [
    "commuinfo_life_df['집 추정 위치 평일 총 체류시간'].describe()"
   ]
  },
  {
   "cell_type": "markdown",
   "metadata": {},
   "source": [
    "### 18.집 추정 위치 휴일 총 체류시간"
   ]
  },
  {
   "cell_type": "code",
   "execution_count": 30,
   "metadata": {},
   "outputs": [
    {
     "data": {
      "text/plain": [
       "count     91584.000000\n",
       "mean     167878.678078\n",
       "std       45492.334708\n",
       "min       37655.560000\n",
       "25%      138674.335000\n",
       "50%      165122.700000\n",
       "75%      195223.215000\n",
       "max      363789.710000\n",
       "Name: 집 추정 위치 휴일 총 체류시간, dtype: float64"
      ]
     },
     "execution_count": 30,
     "metadata": {},
     "output_type": "execute_result"
    }
   ],
   "source": [
    "commuinfo_life_df['집 추정 위치 휴일 총 체류시간'].describe()"
   ]
  },
  {
   "cell_type": "markdown",
   "metadata": {},
   "source": [
    "### 19.평일 총 이동 거리 합계"
   ]
  },
  {
   "cell_type": "code",
   "execution_count": 31,
   "metadata": {},
   "outputs": [
    {
     "data": {
      "text/plain": [
       "count    91584.000000\n",
       "mean       573.681921\n",
       "std        214.696763\n",
       "min        109.520000\n",
       "25%        419.835000\n",
       "50%        543.365000\n",
       "75%        722.610000\n",
       "max       1820.000000\n",
       "Name: 평일 총 이동 거리 합계, dtype: float64"
      ]
     },
     "execution_count": 31,
     "metadata": {},
     "output_type": "execute_result"
    }
   ],
   "source": [
    "commuinfo_life_df['평일 총 이동 거리 합계'].describe()"
   ]
  },
  {
   "cell_type": "markdown",
   "metadata": {},
   "source": [
    "### 20.휴일 총 이동 거리 합계"
   ]
  },
  {
   "cell_type": "code",
   "execution_count": 32,
   "metadata": {},
   "outputs": [
    {
     "data": {
      "text/plain": [
       "count    91584.000000\n",
       "mean       287.639328\n",
       "std         82.108072\n",
       "min         50.000000\n",
       "25%        230.820000\n",
       "50%        284.470000\n",
       "75%        342.472500\n",
       "max        747.620000\n",
       "Name: 휴일 총 이동 거리 합계, dtype: float64"
      ]
     },
     "execution_count": 32,
     "metadata": {},
     "output_type": "execute_result"
    }
   ],
   "source": [
    "commuinfo_life_df['휴일 총 이동 거리 합계'].describe()"
   ]
  },
  {
   "cell_type": "markdown",
   "metadata": {},
   "source": [
    "### 21.지하철이동일수 합계"
   ]
  },
  {
   "cell_type": "code",
   "execution_count": 33,
   "metadata": {},
   "outputs": [
    {
     "data": {
      "text/plain": [
       "count    91584.000000\n",
       "mean         8.612013\n",
       "std          2.229551\n",
       "min          2.420000\n",
       "25%          6.860000\n",
       "50%          8.750000\n",
       "75%         10.360000\n",
       "max         16.670000\n",
       "Name: 지하철이동일수 합계, dtype: float64"
      ]
     },
     "execution_count": 33,
     "metadata": {},
     "output_type": "execute_result"
    }
   ],
   "source": [
    "commuinfo_life_df['지하철이동일수 합계'].describe()"
   ]
  },
  {
   "cell_type": "markdown",
   "metadata": {},
   "source": [
    "### 22.게임 서비스 사용일수"
   ]
  },
  {
   "cell_type": "code",
   "execution_count": 34,
   "metadata": {},
   "outputs": [
    {
     "data": {
      "text/plain": [
       "count    91584.000000\n",
       "mean        48.949195\n",
       "std         14.739680\n",
       "min          6.670000\n",
       "25%         38.350000\n",
       "50%         44.220000\n",
       "75%         59.340000\n",
       "max        115.210000\n",
       "Name: 게임 서비스 사용일수, dtype: float64"
      ]
     },
     "execution_count": 34,
     "metadata": {},
     "output_type": "execute_result"
    }
   ],
   "source": [
    "commuinfo_life_df['게임 서비스 사용일수'].describe()"
   ]
  },
  {
   "cell_type": "markdown",
   "metadata": {},
   "source": [
    "### 23.금융 서비스 사용일수"
   ]
  },
  {
   "cell_type": "code",
   "execution_count": 35,
   "metadata": {},
   "outputs": [
    {
     "data": {
      "text/plain": [
       "count    91584.000000\n",
       "mean        91.341886\n",
       "std         43.801607\n",
       "min          2.500000\n",
       "25%         49.670000\n",
       "50%         97.970000\n",
       "75%        127.130000\n",
       "max        245.560000\n",
       "Name: 금융 서비스 사용일수, dtype: float64"
      ]
     },
     "execution_count": 35,
     "metadata": {},
     "output_type": "execute_result"
    }
   ],
   "source": [
    "commuinfo_life_df['금융 서비스 사용일수'].describe()"
   ]
  },
  {
   "cell_type": "markdown",
   "metadata": {},
   "source": [
    "### 24.쇼핑 서비스 사용일수"
   ]
  },
  {
   "cell_type": "code",
   "execution_count": 36,
   "metadata": {},
   "outputs": [
    {
     "data": {
      "text/plain": [
       "count    91584.000000\n",
       "mean       130.218077\n",
       "std         62.581766\n",
       "min          2.670000\n",
       "25%         73.230000\n",
       "50%        136.330000\n",
       "75%        182.050000\n",
       "max        363.060000\n",
       "Name: 쇼핑 서비스 사용일수, dtype: float64"
      ]
     },
     "execution_count": 36,
     "metadata": {},
     "output_type": "execute_result"
    }
   ],
   "source": [
    "commuinfo_life_df['쇼핑 서비스 사용일수'].describe()"
   ]
  },
  {
   "cell_type": "markdown",
   "metadata": {},
   "source": [
    "### 25.동영상/방송 서비스 사용일수"
   ]
  },
  {
   "cell_type": "code",
   "execution_count": 37,
   "metadata": {},
   "outputs": [
    {
     "data": {
      "text/plain": [
       "count    91584.000000\n",
       "mean        28.359431\n",
       "std         12.136750\n",
       "min          1.670000\n",
       "25%         18.000000\n",
       "50%         26.960000\n",
       "75%         37.882500\n",
       "max         75.000000\n",
       "Name: 동영상/방송 서비스 사용일수, dtype: float64"
      ]
     },
     "execution_count": 37,
     "metadata": {},
     "output_type": "execute_result"
    }
   ],
   "source": [
    "commuinfo_life_df['동영상/방송 서비스 사용일수'].describe()"
   ]
  },
  {
   "cell_type": "markdown",
   "metadata": {},
   "source": [
    "### 26.유튜브 사용일수"
   ]
  },
  {
   "cell_type": "code",
   "execution_count": 38,
   "metadata": {},
   "outputs": [
    {
     "data": {
      "text/plain": [
       "count    91584.000000\n",
       "mean        -0.055495\n",
       "std          0.202700\n",
       "min         -0.730000\n",
       "25%         -0.150000\n",
       "50%         -0.050000\n",
       "75%          0.100000\n",
       "max          0.420000\n",
       "Name: 유튜브 사용일수, dtype: float64"
      ]
     },
     "execution_count": 38,
     "metadata": {},
     "output_type": "execute_result"
    }
   ],
   "source": [
    "commuinfo_life_df['유튜브 사용일수'].describe()"
   ]
  },
  {
   "cell_type": "markdown",
   "metadata": {},
   "source": [
    "### 27.넷플릭스 사용일수"
   ]
  },
  {
   "cell_type": "code",
   "execution_count": 39,
   "metadata": {},
   "outputs": [
    {
     "data": {
      "text/plain": [
       "count    91584.000000\n",
       "mean        -0.372727\n",
       "std          0.212085\n",
       "min         -0.670000\n",
       "25%         -0.600000\n",
       "50%         -0.370000\n",
       "75%         -0.170000\n",
       "max          0.270000\n",
       "Name: 넷플릭스 사용일수, dtype: float64"
      ]
     },
     "execution_count": 39,
     "metadata": {},
     "output_type": "execute_result"
    }
   ],
   "source": [
    "commuinfo_life_df['넷플릭스 사용일수'].describe()"
   ]
  },
  {
   "cell_type": "markdown",
   "metadata": {},
   "source": [
    "### 28.배달 서비스 사용일수"
   ]
  },
  {
   "cell_type": "code",
   "execution_count": 40,
   "metadata": {},
   "outputs": [
    {
     "data": {
      "text/plain": [
       "count    91584.000000\n",
       "mean        13.421384\n",
       "std          4.772997\n",
       "min          0.000000\n",
       "25%          9.800000\n",
       "50%         13.500000\n",
       "75%         17.180000\n",
       "max         41.670000\n",
       "Name: 배달 서비스 사용일수, dtype: float64"
      ]
     },
     "execution_count": 40,
     "metadata": {},
     "output_type": "execute_result"
    }
   ],
   "source": [
    "commuinfo_life_df['배달 서비스 사용일수'].describe()"
   ]
  },
  {
   "cell_type": "markdown",
   "metadata": {},
   "source": [
    "### 29.배달_브랜드 서비스 사용일수"
   ]
  },
  {
   "cell_type": "code",
   "execution_count": 41,
   "metadata": {},
   "outputs": [
    {
     "data": {
      "text/plain": [
       "count    91584.000000\n",
       "mean         2.391072\n",
       "std          1.083813\n",
       "min          0.000000\n",
       "25%          2.080000\n",
       "50%          2.640000\n",
       "75%          2.950000\n",
       "max          5.000000\n",
       "Name: 배달_브랜드 서비스 사용일수, dtype: float64"
      ]
     },
     "execution_count": 41,
     "metadata": {},
     "output_type": "execute_result"
    }
   ],
   "source": [
    "commuinfo_life_df['배달_브랜드 서비스 사용일수'].describe()"
   ]
  },
  {
   "cell_type": "markdown",
   "metadata": {},
   "source": [
    "### 30.배달_식재료 서비스 사용일수"
   ]
  },
  {
   "cell_type": "code",
   "execution_count": 42,
   "metadata": {},
   "outputs": [
    {
     "data": {
      "text/plain": [
       "count    91584.000000\n",
       "mean         1.354012\n",
       "std          0.654107\n",
       "min          0.000000\n",
       "25%          1.670000\n",
       "50%          1.670000\n",
       "75%          1.670000\n",
       "max          1.670000\n",
       "Name: 배달_식재료 서비스 사용일수, dtype: float64"
      ]
     },
     "execution_count": 42,
     "metadata": {},
     "output_type": "execute_result"
    }
   ],
   "source": [
    "commuinfo_life_df['배달_식재료 서비스 사용일수'].describe()"
   ]
  }
 ],
 "metadata": {
  "kernelspec": {
   "display_name": "2ndpro",
   "language": "python",
   "name": "python3"
  },
  "language_info": {
   "codemirror_mode": {
    "name": "ipython",
    "version": 3
   },
   "file_extension": ".py",
   "mimetype": "text/x-python",
   "name": "python",
   "nbconvert_exporter": "python",
   "pygments_lexer": "ipython3",
   "version": "3.12.0"
  }
 },
 "nbformat": 4,
 "nbformat_minor": 2
}
